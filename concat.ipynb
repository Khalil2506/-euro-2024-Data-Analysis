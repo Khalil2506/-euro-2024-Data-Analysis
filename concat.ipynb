{
 "cells": [
  {
   "cell_type": "code",
   "execution_count": 13,
   "metadata": {},
   "outputs": [
    {
     "name": "stderr",
     "output_type": "stream",
     "text": [
      "c:\\Users\\thermaltaque\\OneDrive - Universidad Tecnologica del Peru\\Khalil\\Data analytics\\statsbombpy\\statsbombpy\\api_client.py:21: NoAuthWarning: credentials were not supplied. open data access only\n",
      "  warnings.warn(\n"
     ]
    }
   ],
   "source": [
    "import pandas as pd\n",
    "from fuzzywuzzy import process\n",
    "from statsbombpy import sb\n",
    "from rapidfuzz import process, fuzz\n",
    "\n",
    "# Leer datos de Excel\n",
    "df_excel = pd.read_excel('Euro_2024.xlsx',sheet_name='Player_euro')\n",
    "\n",
    "# Leer datos de StatsBomb\n",
    "events_euro = sb.events(match_id=3942349)\n",
    "# Filtrar datos de StatsBomb para eliminar filas con NaN en las columnas relevantes\n",
    "events_euro = events_euro.dropna(subset=['player', 'player_id'])\n"
   ]
  },
  {
   "cell_type": "code",
   "execution_count": 14,
   "metadata": {},
   "outputs": [],
   "source": [
    "def preprocesar_nombre(nombre):\n",
    "    return nombre.lower().strip()\n",
    "\n",
    "df_excel['Player'] = df_excel['Player'].apply(preprocesar_nombre)\n",
    "events_euro['player'] = events_euro['player'].apply(preprocesar_nombre)"
   ]
  },
  {
   "cell_type": "code",
   "execution_count": 15,
   "metadata": {},
   "outputs": [],
   "source": [
    "def encontrar_mejor_coincidencia(nombre_excel, nombres_statsbomb, ids_statsbomb):\n",
    "    mejor_coincidencia = process.extractOne(nombre_excel, nombres_statsbomb, scorer=fuzz.ratio)\n",
    "    if mejor_coincidencia:\n",
    "        nombre_mas_parecido, similitud = mejor_coincidencia[:2]\n",
    "        if similitud > 80:  # Puedes ajustar este umbral según tus necesidades\n",
    "            return ids_statsbomb[nombres_statsbomb.index(nombre_mas_parecido)]\n",
    "    return None"
   ]
  },
  {
   "cell_type": "code",
   "execution_count": 16,
   "metadata": {},
   "outputs": [],
   "source": [
    "nombres_statsbomb = events_euro['player'].tolist()\n",
    "ids_statsbomb = events_euro['player_id'].tolist()\n",
    "\n",
    "df_excel['player_id'] = df_excel['Player'].apply(lambda x: encontrar_mejor_coincidencia(x, nombres_statsbomb, ids_statsbomb))"
   ]
  },
  {
   "cell_type": "code",
   "execution_count": 17,
   "metadata": {},
   "outputs": [],
   "source": [
    "df_excel.to_excel('archivo_excel_actualizado.xlsx', index=False)"
   ]
  }
 ],
 "metadata": {
  "kernelspec": {
   "display_name": "Python 3",
   "language": "python",
   "name": "python3"
  },
  "language_info": {
   "codemirror_mode": {
    "name": "ipython",
    "version": 3
   },
   "file_extension": ".py",
   "mimetype": "text/x-python",
   "name": "python",
   "nbconvert_exporter": "python",
   "pygments_lexer": "ipython3",
   "version": "3.10.6"
  }
 },
 "nbformat": 4,
 "nbformat_minor": 2
}
